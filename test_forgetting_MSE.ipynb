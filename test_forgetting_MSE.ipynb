{
 "cells": [
  {
   "cell_type": "markdown",
   "metadata": {},
   "source": [
    "# Test for Catastrophic Forgetting\n",
    "\n",
    "Model: MLP\n",
    "Loss: MSE\n",
    "Method: First 5 classes [0, 1, 2, 3, 4] are trained first, then the remaining classes [5, 6, 7, 8, 9] are trained."
   ]
  },
  {
   "cell_type": "code",
   "execution_count": 87,
   "metadata": {},
   "outputs": [],
   "source": [
    "import torch\n",
    "from torch import nn\n",
    "from torch.utils.data import DataLoader\n",
    "from torchvision import datasets\n",
    "from torchvision.transforms import ToTensor"
   ]
  },
  {
   "cell_type": "code",
   "execution_count": 88,
   "metadata": {},
   "outputs": [],
   "source": [
    "# Download training data from open datasets.\n",
    "training_data = datasets.FashionMNIST(\n",
    "    root=\"./data\",\n",
    "    train=True,\n",
    "    download=True,\n",
    "    transform=ToTensor(),\n",
    ")\n",
    "\n",
    "# Download test data from open datasets.\n",
    "test_data = datasets.FashionMNIST(\n",
    "    root=\"./data\",\n",
    "    train=False,\n",
    "    download=True,\n",
    "    transform=ToTensor(),\n",
    ")"
   ]
  },
  {
   "cell_type": "code",
   "execution_count": 89,
   "metadata": {},
   "outputs": [],
   "source": [
    "class FilteredFashionMNIST(Dataset):\n",
    "    def __init__(self, dataset, target_classes):\n",
    "        self.data = []\n",
    "        self.targets = []\n",
    "        for i in range(len(dataset)):\n",
    "            img, target = dataset[i]\n",
    "            if target in target_classes:\n",
    "                self.data.append(img)\n",
    "                self.targets.append(target)\n",
    "\n",
    "    def __len__(self):\n",
    "        return len(self.data)\n",
    "\n",
    "    def __getitem__(self, idx):\n",
    "        return self.data[idx], self.targets[idx]\n"
   ]
  },
  {
   "cell_type": "code",
   "execution_count": 90,
   "metadata": {},
   "outputs": [
    {
     "name": "stdout",
     "output_type": "stream",
     "text": [
      "元の訓練データセットのサイズ: 60000\n",
      "抽出後の訓練データセット１のサイズ: 30000\n",
      "抽出後の訓練データセット２のサイズ: 30000\n",
      "元のテストデータセットのサイズ: 10000\n",
      "抽出後のテストデータセット１のサイズ: 5000\n",
      "抽出後のテストデータセット２のサイズ: 5000\n",
      "抽出後の訓練データセット１の最初の要素のクラス番号: 0\n",
      "抽出後の訓練データセット２の最初の要素のクラス番号: 9\n",
      "抽出後のテストデータセット１の最初の要素のクラス番号: 2\n",
      "抽出後のテストデータセット２の最初の要素のクラス番号: 9\n"
     ]
    }
   ],
   "source": [
    "# 抽出したいターゲットクラスのリスト\n",
    "target_classes1 = [0, 1, 2, 3, 4]\n",
    "target_classes2 = [5, 6, 7, 8, 9]\n",
    "\n",
    "# ターゲットクラス番号がリストに含まれるデータのみを抽出\n",
    "training_data1 = FilteredFashionMNIST(training_data, target_classes1)\n",
    "training_data2 = FilteredFashionMNIST(training_data, target_classes2)\n",
    "\n",
    "test_data1 = FilteredFashionMNIST(test_data, target_classes1)\n",
    "test_data2 = FilteredFashionMNIST(test_data, target_classes2)\n",
    "\n",
    "# 抽出されたデータセットの確認\n",
    "print(f\"元の訓練データセットのサイズ: {len(training_data)}\")\n",
    "print(f\"抽出後の訓練データセット１のサイズ: {len(training_data1)}\")\n",
    "print(f\"抽出後の訓練データセット２のサイズ: {len(training_data2)}\")\n",
    "\n",
    "print(f\"元のテストデータセットのサイズ: {len(test_data)}\")\n",
    "print(f\"抽出後のテストデータセット１のサイズ: {len(test_data1)}\")\n",
    "print(f\"抽出後のテストデータセット２のサイズ: {len(test_data2)}\")\n",
    "\n",
    "# 抽出されたデータセットの最初の要素のクラス番号を確認\n",
    "print(f\"抽出後の訓練データセット１の最初の要素のクラス番号: {training_data1[0][1]}\")\n",
    "print(f\"抽出後の訓練データセット２の最初の要素のクラス番号: {training_data2[0][1]}\")\n",
    "print(f\"抽出後のテストデータセット１の最初の要素のクラス番号: {test_data1[0][1]}\")\n",
    "print(f\"抽出後のテストデータセット２の最初の要素のクラス番号: {test_data2[0][1]}\")\n",
    "\n"
   ]
  },
  {
   "cell_type": "code",
   "execution_count": 91,
   "metadata": {},
   "outputs": [
    {
     "name": "stdout",
     "output_type": "stream",
     "text": [
      "Shape of X [N, C, H, W]: torch.Size([64, 1, 28, 28])\n",
      "Shape of y: torch.Size([64]) torch.int64\n"
     ]
    }
   ],
   "source": [
    "batch_size = 64\n",
    "\n",
    "# Create data loaders.\n",
    "train1_dataloader = DataLoader(training_data1, batch_size=batch_size)\n",
    "train2_dataloader = DataLoader(training_data2, batch_size=batch_size)\n",
    "test1_dataloader = DataLoader(test_data1, batch_size=batch_size)\n",
    "test2_dataloader = DataLoader(test_data2, batch_size=batch_size)\n",
    "\n",
    "for X, y in test1_dataloader:\n",
    "    print(f\"Shape of X [N, C, H, W]: {X.shape}\")\n",
    "    print(f\"Shape of y: {y.shape} {y.dtype}\")\n",
    "    break"
   ]
  },
  {
   "cell_type": "code",
   "execution_count": 92,
   "metadata": {},
   "outputs": [
    {
     "name": "stdout",
     "output_type": "stream",
     "text": [
      "Using cuda device\n"
     ]
    }
   ],
   "source": [
    "# Get cpu, gpu or mps device for training.\n",
    "device = (\n",
    "    \"cuda\"\n",
    "    if torch.cuda.is_available()\n",
    "    else \"mps\"\n",
    "    if torch.backends.mps.is_available()\n",
    "    else \"cpu\"\n",
    ")\n",
    "print(f\"Using {device} device\")\n",
    "\n",
    "# Define model\n",
    "class NeuralNetwork(nn.Module):\n",
    "    def __init__(self):\n",
    "        super().__init__()\n",
    "        self.flatten = nn.Flatten()\n",
    "        self.linear_relu_stack = nn.Sequential(\n",
    "            nn.Linear(28*28, 512),\n",
    "            nn.ReLU(),\n",
    "            nn.Linear(512, 512),\n",
    "            nn.ReLU(),\n",
    "            nn.Linear(512, 10)\n",
    "        )\n",
    "\n",
    "    def forward(self, x):\n",
    "        x = self.flatten(x)\n",
    "        logits = self.linear_relu_stack(x)\n",
    "        return logits\n"
   ]
  },
  {
   "cell_type": "code",
   "execution_count": 93,
   "metadata": {},
   "outputs": [],
   "source": [
    "def train(dataloader, model, loss_fn, optimizer):\n",
    "    size = len(dataloader.dataset)\n",
    "    model.train()\n",
    "    for batch, (X, y) in enumerate(dataloader):\n",
    "        y = nn.functional.one_hot(y, num_classes=10).float()\n",
    "        X, y = X.to(device), y.to(device)\n",
    "\n",
    "        # Compute prediction error\n",
    "        pred = model(X)\n",
    "        loss = loss_fn(pred, y)\n",
    "\n",
    "        # Backpropagation\n",
    "        loss.backward()\n",
    "        optimizer.step()\n",
    "        optimizer.zero_grad()\n",
    "\n",
    "#        if batch % 100 == 0:\n",
    "#            loss, current = loss.item(), (batch + 1) * len(X)\n",
    "#            print(f\"loss: {loss:>7f}  [{current:>5d}/{size:>5d}]\")"
   ]
  },
  {
   "cell_type": "code",
   "execution_count": 94,
   "metadata": {},
   "outputs": [],
   "source": [
    "def eval(dataloader, model, loss_fn):\n",
    "    size = len(dataloader.dataset)\n",
    "    num_batches = len(dataloader)\n",
    "    model.eval()\n",
    "    test_loss, correct = 0, 0\n",
    "    with torch.no_grad():\n",
    "        for X, y in dataloader:\n",
    "            y = nn.functional.one_hot(y, num_classes=10).float()\n",
    "            X, y = X.to(device), y.to(device)\n",
    "            pred = model(X)\n",
    "            test_loss += loss_fn(pred, y).item()\n",
    "            correct += (pred.argmax(1) == y.argmax(1)).type(torch.float).sum().item()\n",
    "    test_loss /= num_batches\n",
    "    correct /= size\n",
    "#    print(f\"\\t Accuracy: {(100*correct):>0.1f}%, Avg loss: {test_loss:>8f}\")\n",
    "    \n",
    "    return correct"
   ]
  },
  {
   "cell_type": "code",
   "execution_count": 95,
   "metadata": {},
   "outputs": [],
   "source": [
    "# model, loss_fn, optimizer\n",
    "\n",
    "model = NeuralNetwork().to(device)\n",
    "loss_fn = nn.MSELoss()\n",
    "optimizer = torch.optim.SGD(model.parameters(), lr=1e-3)"
   ]
  },
  {
   "cell_type": "code",
   "execution_count": 96,
   "metadata": {},
   "outputs": [
    {
     "name": "stdout",
     "output_type": "stream",
     "text": [
      "Train1:\n",
      "Epoch 1 train1_accuracy: 0.34, train2_accuracy: 0.02, test1_accuracy: 0.34, test2_accuracy: 0.02\n",
      "Epoch 2 train1_accuracy: 0.48, train2_accuracy: 0.00, test1_accuracy: 0.49, test2_accuracy: 0.00\n",
      "Epoch 3 train1_accuracy: 0.55, train2_accuracy: 0.00, test1_accuracy: 0.55, test2_accuracy: 0.00\n",
      "Epoch 4 train1_accuracy: 0.57, train2_accuracy: 0.00, test1_accuracy: 0.58, test2_accuracy: 0.00\n",
      "Epoch 5 train1_accuracy: 0.60, train2_accuracy: 0.00, test1_accuracy: 0.60, test2_accuracy: 0.00\n",
      "Epoch 6 train1_accuracy: 0.63, train2_accuracy: 0.00, test1_accuracy: 0.62, test2_accuracy: 0.00\n",
      "Epoch 7 train1_accuracy: 0.65, train2_accuracy: 0.00, test1_accuracy: 0.64, test2_accuracy: 0.00\n",
      "Epoch 8 train1_accuracy: 0.66, train2_accuracy: 0.00, test1_accuracy: 0.66, test2_accuracy: 0.00\n",
      "Epoch 9 train1_accuracy: 0.68, train2_accuracy: 0.00, test1_accuracy: 0.67, test2_accuracy: 0.00\n",
      "Epoch 10 train1_accuracy: 0.69, train2_accuracy: 0.00, test1_accuracy: 0.68, test2_accuracy: 0.00\n",
      "Done!\n",
      "Train2:\n",
      "Epoch 1 train1_accuracy: 0.63, train2_accuracy: 0.26, test1_accuracy: 0.62, test2_accuracy: 0.26\n",
      "Epoch 2 train1_accuracy: 0.34, train2_accuracy: 0.47, test1_accuracy: 0.33, test2_accuracy: 0.46\n",
      "Epoch 3 train1_accuracy: 0.20, train2_accuracy: 0.61, test1_accuracy: 0.20, test2_accuracy: 0.60\n",
      "Epoch 4 train1_accuracy: 0.17, train2_accuracy: 0.68, test1_accuracy: 0.17, test2_accuracy: 0.68\n",
      "Epoch 5 train1_accuracy: 0.17, train2_accuracy: 0.71, test1_accuracy: 0.16, test2_accuracy: 0.71\n",
      "Epoch 6 train1_accuracy: 0.15, train2_accuracy: 0.72, test1_accuracy: 0.15, test2_accuracy: 0.72\n",
      "Epoch 7 train1_accuracy: 0.14, train2_accuracy: 0.73, test1_accuracy: 0.14, test2_accuracy: 0.73\n",
      "Epoch 8 train1_accuracy: 0.12, train2_accuracy: 0.74, test1_accuracy: 0.12, test2_accuracy: 0.74\n",
      "Epoch 9 train1_accuracy: 0.10, train2_accuracy: 0.74, test1_accuracy: 0.09, test2_accuracy: 0.74\n",
      "Epoch 10 train1_accuracy: 0.07, train2_accuracy: 0.75, test1_accuracy: 0.07, test2_accuracy: 0.75\n",
      "Done!\n"
     ]
    }
   ],
   "source": [
    "# Training the model parameters with the training data1 then training data2\n",
    "\n",
    "epochs = 10\n",
    "\n",
    "train1_accuracy = []\n",
    "train2_accuracy = []\n",
    "test1_accuracy = []\n",
    "test2_accuracy = []\n",
    "\n",
    "print(\"Train1:\")\n",
    "for t in range(epochs):\n",
    "#    print(f\"Epoch {t+1}\\n-------------------------------\")\n",
    "    train(train1_dataloader, model, loss_fn, optimizer)\n",
    "    train1_acc = eval(train1_dataloader, model, loss_fn)\n",
    "    train2_acc = eval(train2_dataloader, model, loss_fn)\n",
    "    test1_acc = eval(test1_dataloader, model, loss_fn)\n",
    "    test2_acc = eval(test2_dataloader, model, loss_fn)\n",
    "    train1_accuracy.append(train1_acc)\n",
    "    train2_accuracy.append(train2_acc)\n",
    "    test1_accuracy.append(test1_acc)\n",
    "    test2_accuracy.append(test2_acc)\n",
    "#    print(f\"Epoch {t+1} train1_accuracy: {train1_acc}, train2_accuracy: {train2_acc}, test1_accuracy: {test1_acc}, test2_accuracy: {test2_acc}\")\n",
    "    print(\"Epoch %d train1_accuracy: %.2f, train2_accuracy: %.2f, test1_accuracy: %.2f, test2_accuracy: %.2f\" % (t+1, train1_acc, train2_acc, test1_acc, test2_acc))\n",
    "print(\"Done!\")\n",
    "\n",
    "print(\"Train2:\")\n",
    "for t in range(epochs):\n",
    "#    print(f\"Epoch {t+1}\\n-------------------------------\")\n",
    "    train(train2_dataloader, model, loss_fn, optimizer)\n",
    "    train1_acc = eval(train1_dataloader, model, loss_fn)\n",
    "    train2_acc = eval(train2_dataloader, model, loss_fn)\n",
    "    test1_acc = eval(test1_dataloader, model, loss_fn)\n",
    "    test2_acc = eval(test2_dataloader, model, loss_fn)\n",
    "    train1_accuracy.append(train1_acc)\n",
    "    train2_accuracy.append(train2_acc)\n",
    "    test1_accuracy.append(test1_acc)\n",
    "    test2_accuracy.append(test2_acc)\n",
    "#    print(f\"Epoch {t+1} train1_accuracy: {train1_acc}, train2_accuracy: {train2_acc}, test1_accuracy: {test1_acc}, test2_accuracy: {test2_acc}\")\n",
    "    print(\"Epoch %d train1_accuracy: %.2f, train2_accuracy: %.2f, test1_accuracy: %.2f, test2_accuracy: %.2f\" % (t+1, train1_acc, train2_acc, test1_acc, test2_acc))\n",
    "print(\"Done!\")\n"
   ]
  },
  {
   "cell_type": "code",
   "execution_count": 97,
   "metadata": {},
   "outputs": [
    {
     "data": {
      "image/png": "[encoded data removed]",
      "text/plain": [
       "<Figure size 640x480 with 1 Axes>"
      ]
     },
     "metadata": {},
     "output_type": "display_data"
    }
   ],
   "source": [
    "# Plot the learning curve\n",
    "\n",
    "import matplotlib.pyplot as plt\n",
    "\n",
    "x_epoch = range(1, 2*epochs+1)\n",
    "plt.plot(x_epoch, train1_accuracy, label=\"train1\")\n",
    "plt.plot(x_epoch, train2_accuracy, label=\"train2\")\n",
    "plt.plot(x_epoch, test1_accuracy, label=\"test1\")\n",
    "plt.plot(x_epoch, test2_accuracy, label=\"test2\")\n",
    "plt.ylabel(\"accuracy\")\n",
    "plt.xlabel(\"epoch\")\n",
    "plt.legend()\n",
    "plt.show() "
   ]
  }
 ],
 "metadata": {
  "kernelspec": {
   "display_name": "base",
   "language": "python",
   "name": "python3"
  },
  "language_info": {
   "codemirror_mode": {
    "name": "ipython",
    "version": 3
   },
   "file_extension": ".py",
   "mimetype": "text/x-python",
   "name": "python",
   "nbconvert_exporter": "python",
   "pygments_lexer": "ipython3",
   "version": "3.11.11"
  }
 },
 "nbformat": 4,
 "nbformat_minor": 2
}
